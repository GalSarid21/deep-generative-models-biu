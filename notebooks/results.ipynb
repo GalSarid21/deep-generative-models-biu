{
 "cells": [
  {
   "cell_type": "markdown",
   "id": "7c9d6bd6",
   "metadata": {},
   "source": [
    "# Experiments Results Analysis\n",
    "\n",
    "In the following notebook we will analyze the preformance of a single SSM (Falcon3-Mamba-7B-Instruct) and a single LLM (Llama-3.1-8B-Instruct).<br>\n",
    "Those are two instruction models with similar sizes (7.27B vs 8.03B params).<br>\n",
    "For each model we'll examine the following:\n",
    "* `gold_index_change` task with 10,20 and 30 documents AND will compare the `openbook_random` and `closedbook` prompting modes.\n",
    "* `num_docs_change` with gold index of 0,4 and 9 AND will compare the `openbook_random` and `closedbook` prompting modes.\n",
    "\n",
    "After those are done - we'll compare the SSM and LLM performance.<br>\n",
    "Additionally, we run the `gold_index_change` with a \"non-instruct\" falcon model and copare the results with the \"instruct\" model to the better understand the instruction fine-tuning impact."
   ]
  },
  {
   "cell_type": "markdown",
   "id": "cb1eae7f",
   "metadata": {},
   "source": [
    "## Utils\n",
    "\n",
    "* matplotlib plots handling\n",
    "* test results statistics calculation\n",
    "* test result object loading"
   ]
  },
  {
   "cell_type": "code",
   "execution_count": 88,
   "id": "7653d1fe",
   "metadata": {},
   "outputs": [],
   "source": [
    "from pathlib import Path\n",
    "from typing import Dict, List, Optional, Tuple, Any\n",
    "\n",
    "import matplotlib.pyplot as plt\n",
    "import statistics\n",
    "import numpy as np\n",
    "import json\n",
    "import os"
   ]
  },
  {
   "cell_type": "markdown",
   "id": "f4f40a96",
   "metadata": {},
   "source": [
    "Make sure a local assets/plots folder exists (ignored by git)"
   ]
  },
  {
   "cell_type": "code",
   "execution_count": 90,
   "id": "535871ad",
   "metadata": {},
   "outputs": [],
   "source": [
    "os.makedirs(\"../assets/plots\", exist_ok=True)"
   ]
  },
  {
   "cell_type": "code",
   "execution_count": null,
   "id": "f1d9cddf",
   "metadata": {},
   "outputs": [],
   "source": [
    "def load_test_results(results_file_path: str) -> Dict[str, Any]:\n",
    "    with open(results_file_path, \"r\", encoding=\"utf-8\") as f:\n",
    "        data = json.load(f)\n",
    "    return data"
   ]
  },
  {
   "cell_type": "code",
   "execution_count": null,
   "id": "03b163c1",
   "metadata": {},
   "outputs": [],
   "source": [
    "def get_scores_mean(scores: List[float], precision: Optional[int] = 4) -> float:\n",
    "    if precision < 0:\n",
    "        raise ValueError(\"'precision' can't be a negative number.\")\n",
    "    return round(statistics.mean(scores), precision)"
   ]
  },
  {
   "cell_type": "code",
   "execution_count": null,
   "id": "02dbee9e",
   "metadata": {},
   "outputs": [],
   "source": [
    "def plot_metric_over_documents(\n",
    "    x_values: List[int],\n",
    "    y_values_list: List[List[float]],\n",
    "    series_labels: List[str],\n",
    "    title: Optional[str] = \"Metric over Documents\",\n",
    "    xtitle: Optional[str] = \"Gold Index\",\n",
    "    ytitle: Optional[str] = \"Metric Mean\",\n",
    "    closedbook_mean: Optional[float] = None,\n",
    "    closedbook_label: Optional[str] = None,\n",
    "    figsize: Optional[Tuple[int, int]] = (8, 6),\n",
    "    image_name: Optional[str] = None\n",
    ") -> None:\n",
    "\n",
    "    plt.figure(figsize=figsize)\n",
    "    \n",
    "    for y_values, label in zip(y_values_list, series_labels):\n",
    "        plt.plot(x_values, y_values, marker=\"o\", label=label.lower())\n",
    "\n",
    "    if closedbook_mean is not None:\n",
    "        plt.axhline(\n",
    "            y=closedbook_mean,\n",
    "            color=\"red\",\n",
    "            linestyle=\"--\",\n",
    "            label=closedbook_label or \"closedbook\"\n",
    "        )\n",
    "\n",
    "    plt.xticks(np.arange(min(x_values), max(x_values)+1, 2))\n",
    "\n",
    "    plt.title(title, weight=\"bold\")\n",
    "    plt.xlabel(xtitle)\n",
    "    plt.ylabel(ytitle)\n",
    "    plt.grid(True)\n",
    "    plt.legend(loc='upper center', bbox_to_anchor=(0.5, -0.2), ncol=2)\n",
    "    plt.tight_layout()\n",
    "    if image_name is not None:\n",
    "        plt.savefig(f\"../assets/plots/{image_name}.png\", dpi=300, bbox_inches=\"tight\")\n",
    "    plt.show()"
   ]
  },
  {
   "cell_type": "code",
   "execution_count": null,
   "id": "1fdb16bb",
   "metadata": {},
   "outputs": [],
   "source": [
    "def populate_plot_data_lists(\n",
    "    data: Dict[str, Any],\n",
    "    scores_eval: List[float],\n",
    "    x_values: Optional[List[int]] = None,\n",
    "    num_prompt_tokens: Optional[List[int]] = None,\n",
    "    sort_keys: Optional[bool] = True,\n",
    "    show_scores_eval: Optional[bool] = False\n",
    ") -> str:\n",
    "\n",
    "    metric = \"\"\n",
    "    keys = list(data[\"experiments\"].keys())\n",
    "    if sort_keys is True:\n",
    "        keys = sorted(keys, key=lambda x: [int(xi) for xi in x.split(\"_\") if xi.isdigit()][0])\n",
    "\n",
    "    for key in keys:\n",
    "        if \"gold_at_\" in key:\n",
    "            str_to_replace = \"gold_at_\"\n",
    "        elif \"_total_documents\" in key:\n",
    "            str_to_replace = \"_total_documents\"\n",
    "        else:\n",
    "            raise ValueError(f\"Unidentified results dict key {key}\")\n",
    "\n",
    "        if x_values is not None:\n",
    "            x_val = int(key.replace(str_to_replace, \"\"))\n",
    "            x_values.append(x_val)\n",
    "\n",
    "        item = data[\"experiments\"][key]\n",
    "        mean = get_scores_mean(item[\"scores\"])\n",
    "        scores_eval.append(mean)\n",
    "\n",
    "        if num_prompt_tokens is not None:\n",
    "            num_prompt_tokens.extend(item[\"num_prompt_tokens\"])\n",
    "\n",
    "        if metric == \"\":\n",
    "            metric = item[\"metric\"]\n",
    "        else:\n",
    "            if item[\"metric\"] != metric:\n",
    "                raise Exception(\"Inconsistent results scores metric\")\n",
    "\n",
    "    if show_scores_eval is True:\n",
    "        print(f\"{data['model']} scores:\\n{scores_eval}\")\n",
    "    return metric"
   ]
  },
  {
   "cell_type": "code",
   "execution_count": null,
   "id": "a1cb559b",
   "metadata": {},
   "outputs": [],
   "source": [
    "def plot_single_model_results_data(\n",
    "    openbook_path: str,\n",
    "    closedbook_path: Optional[str] = None,\n",
    "    image_name: Optional[str] = None,\n",
    "    show_scores_eval: Optional[bool] = False\n",
    ") -> None:\n",
    "\n",
    "    openbook_data = load_test_results(openbook_path)\n",
    "    openbook_scores_eval = []\n",
    "    num_prompt_tokens = []\n",
    "    x_values = []\n",
    "\n",
    "    metric = populate_plot_data_lists(\n",
    "        data=openbook_data,\n",
    "        x_values=x_values,\n",
    "        scores_eval=openbook_scores_eval,\n",
    "        num_prompt_tokens=num_prompt_tokens,\n",
    "        show_scores_eval=show_scores_eval\n",
    "    )\n",
    "\n",
    "    closedbook_mean = None\n",
    "    if closedbook_path is not None:\n",
    "        closedbook_data = load_test_results(closedbook_path)\n",
    "        closedbook_scores = closedbook_data[\"experiments\"][\"closedbook\"][\"scores\"]\n",
    "        closedbook_mean = get_scores_mean(closedbook_scores)\n",
    "\n",
    "    # cuts the HuggingFace repo and leaves only the model name\n",
    "    short_model_name = openbook_data[\"model\"].split(\"/\")[-1]\n",
    "    experiment_type = openbook_data[\"experiment_type\"]\n",
    "    \n",
    "    if experiment_type == \"gold_idx_change\":\n",
    "        num_docs = openbook_data[\"num_documents\"]\n",
    "        graph_title = f\"{short_model_name}\\n\" \\\n",
    "            + f\"{experiment_type} with {num_docs} total documents, \" \\\n",
    "            + f\"Avg prompt length: {round(statistics.mean(num_prompt_tokens), 2)} tokens\"\n",
    "    else:\n",
    "        gold_idx = openbook_data[\"gold_index\"]\n",
    "        graph_title = f\"{short_model_name}\\n\" \\\n",
    "            + f\"{experiment_type} with gold index {gold_idx}\"\n",
    "    ytitle = f\"Performance\\n[metric: {metric}]\"\n",
    "\n",
    "    plot_metric_over_documents(\n",
    "        x_values=x_values,\n",
    "        y_values_list=[openbook_scores_eval],\n",
    "        series_labels=[short_model_name.lower()],\n",
    "        title=graph_title,\n",
    "        xtitle=(\n",
    "            \"Gold Index [document with answer]\"\n",
    "            if experiment_type == \"gold_idx_change\"\n",
    "            else \"Number of Documents\" \n",
    "        ),\n",
    "        ytitle=ytitle,\n",
    "        closedbook_mean=closedbook_mean,\n",
    "        image_name=image_name\n",
    "    )"
   ]
  },
  {
   "cell_type": "code",
   "execution_count": null,
   "id": "c21a9e27",
   "metadata": {},
   "outputs": [],
   "source": [
    "def validate_models_data_consistency(data: List[Any], param_name: str) -> None:\n",
    "    if data[0] != data[-1]:\n",
    "        raise Exception(f\"Can't compare two model performance of different {param_name}\")"
   ]
  },
  {
   "cell_type": "code",
   "execution_count": null,
   "id": "0958c29c",
   "metadata": {},
   "outputs": [],
   "source": [
    "def plot_two_models_comparison(\n",
    "    openbook_paths: List[str],\n",
    "    closedbook_path: Optional[str] = None,\n",
    "    closedbook_label: Optional[str] = None,\n",
    "    image_name: Optional[str] = None,\n",
    "    show_scores_eval: Optional[bool] = False\n",
    ") -> None:\n",
    "    \n",
    "    openbook_datas = [load_test_results(openbook_path) for openbook_path in openbook_paths]\n",
    "    openbook_scores_evals = [[], []]\n",
    "    x_values = []\n",
    "    metrics = []\n",
    "\n",
    "    for i in range(2):\n",
    "        metric = populate_plot_data_lists(\n",
    "            data=openbook_datas[i],\n",
    "            x_values=x_values if i == 0 else None,\n",
    "            scores_eval=openbook_scores_evals[i],\n",
    "            show_scores_eval=show_scores_eval\n",
    "        )\n",
    "        metrics.append(metric)\n",
    "\n",
    "    validate_models_data_consistency(data=metrics, param_name=\"metrics\")\n",
    "\n",
    "    short_model_names = []\n",
    "    experiment_types = []\n",
    "    num_docs_list = []\n",
    "    for openbook_data in openbook_datas:\n",
    "        experiment_type = openbook_data[\"experiment_type\"]\n",
    "        # cuts the HuggingFace repo and leaves only the model name\n",
    "        short_model_names.append(openbook_data[\"model\"].split(\"/\")[-1])\n",
    "        experiment_types.append(experiment_type)\n",
    "        if experiment_type == \"gold_idx_change\":\n",
    "            num_docs_list.append(openbook_data[\"num_documents\"])\n",
    "\n",
    "    validate_models_data_consistency(data=experiment_types, param_name=\"experiments\")\n",
    "\n",
    "    closedbook_mean = None\n",
    "    if closedbook_path is not None:\n",
    "        closedbook_data = load_test_results(closedbook_path)\n",
    "        closedbook_scores = closedbook_data[\"experiments\"][\"closedbook\"][\"scores\"]\n",
    "        closedbook_mean = get_scores_mean(closedbook_scores)\n",
    "\n",
    "    if num_docs_list:\n",
    "        graph_title = f\"{short_model_names[0]} vs {short_model_names[-1]}\\n\" \\\n",
    "            + f\"{experiment_types[0]} with {num_docs_list[0]} total documents\"\n",
    "        xtitle = \"Gold Index [document with answer]\"\n",
    "    else:\n",
    "        graph_title = f\"{short_model_names[0]} vs {short_model_names[-1]}\\n\" \\\n",
    "            + f\"{experiment_types[0]} with gold index {openbook_datas[0][\"gold_index\"]}\"\n",
    "        xtitle = \"Number of Documents\"\n",
    "    ytitle = f\"Performance\\n[metric: {metrics[0]}]\"\n",
    "\n",
    "    plot_metric_over_documents(\n",
    "        x_values=x_values,\n",
    "        y_values_list=openbook_scores_evals,\n",
    "        series_labels=short_model_names,\n",
    "        title=graph_title,\n",
    "        xtitle=xtitle,\n",
    "        ytitle=ytitle,\n",
    "        closedbook_mean=closedbook_mean,\n",
    "        closedbook_label=closedbook_label,\n",
    "        image_name=image_name\n",
    "    )"
   ]
  },
  {
   "cell_type": "markdown",
   "id": "e0d2e9a1",
   "metadata": {},
   "source": [
    "### Utils tests"
   ]
  },
  {
   "cell_type": "code",
   "execution_count": null,
   "id": "9c21eae9",
   "metadata": {},
   "outputs": [],
   "source": [
    "test_file_path = list(Path(\"./results\").rglob(f\"*json\"))[0]\n",
    "results = load_test_results(test_file_path)\n",
    "results"
   ]
  },
  {
   "cell_type": "code",
   "execution_count": null,
   "id": "5a657471",
   "metadata": {},
   "outputs": [],
   "source": [
    "get_scores_mean(results[\"experiments\"][\"gold_at_0\"][\"scores\"])"
   ]
  },
  {
   "cell_type": "code",
   "execution_count": null,
   "id": "31b831f5",
   "metadata": {},
   "outputs": [],
   "source": [
    "plot_metric_over_documents([0, 4, 9], [[0.6, 0.4, 0.5]], [\"falcon-mamaba\"], closedbook_mean=0.42)"
   ]
  },
  {
   "cell_type": "code",
   "execution_count": null,
   "id": "b527b4ae",
   "metadata": {},
   "outputs": [],
   "source": [
    "plot_metric_over_documents([0, 4, 9], [[0.6, 0.4, 0.5], [0.67, 0.58, 0.61]], [\"falcon-mamaba\", \"llama-31\"])"
   ]
  },
  {
   "cell_type": "markdown",
   "id": "fe94a30b",
   "metadata": {},
   "source": [
    "## Falcon3-Mamba-7B-Instruct Analysis (SSM)"
   ]
  },
  {
   "cell_type": "markdown",
   "id": "5757ce15",
   "metadata": {},
   "source": [
    "### Gold Index change"
   ]
  },
  {
   "cell_type": "code",
   "execution_count": null,
   "id": "35ff227f",
   "metadata": {},
   "outputs": [],
   "source": [
    "falcon_closedbook_path = \"../results/Falcon3-Mamba-7B-Instruct/gold_idx_change_experiment/closedbook_prompting_mode\"\n",
    "falcon_closedbook_file = list(Path(falcon_closedbook_path).glob(f\"*json\"))[0]\n",
    "falcon_openbook_path = \"../results/Falcon3-Mamba-7B-Instruct/gold_idx_change_experiment/openbook_prompting_mode\""
   ]
  },
  {
   "cell_type": "markdown",
   "id": "4b588740",
   "metadata": {},
   "source": [
    "10 total documents"
   ]
  },
  {
   "cell_type": "code",
   "execution_count": null,
   "id": "af995003",
   "metadata": {},
   "outputs": [],
   "source": [
    "falcon_openbook_file_10_docs = list(Path(f\"{falcon_openbook_path}/10_docs\").glob(f\"*json\"))[0]\n",
    "plot_single_model_results_data(\n",
    "    openbook_path=falcon_openbook_file_10_docs,\n",
    "    closedbook_path=falcon_closedbook_file\n",
    ")"
   ]
  },
  {
   "cell_type": "markdown",
   "id": "cffa94bd",
   "metadata": {},
   "source": [
    "20 total documents"
   ]
  },
  {
   "cell_type": "code",
   "execution_count": null,
   "id": "e76e1f33",
   "metadata": {},
   "outputs": [],
   "source": [
    "falcon_openbook_file_20_docs = list(Path(f\"{falcon_openbook_path}/20_docs\").glob(f\"*json\"))[0]\n",
    "plot_single_model_results_data(\n",
    "    openbook_path=falcon_openbook_file_20_docs,\n",
    "    closedbook_path=falcon_closedbook_file\n",
    ")"
   ]
  },
  {
   "cell_type": "markdown",
   "id": "51f98f7c",
   "metadata": {},
   "source": [
    "30 total documents"
   ]
  },
  {
   "cell_type": "code",
   "execution_count": null,
   "id": "e026a72f",
   "metadata": {},
   "outputs": [],
   "source": [
    "falcon_openbook_file_30_docs = list(Path(f\"{falcon_openbook_path}/30_docs\").glob(f\"*json\"))[0]\n",
    "plot_single_model_results_data(\n",
    "    openbook_path=falcon_openbook_file_30_docs,\n",
    "    closedbook_path=falcon_closedbook_file\n",
    ")"
   ]
  },
  {
   "cell_type": "markdown",
   "id": "858f8938",
   "metadata": {},
   "source": [
    "### Input Documents Increase"
   ]
  },
  {
   "cell_type": "code",
   "execution_count": null,
   "id": "a9fe42a1",
   "metadata": {},
   "outputs": [],
   "source": [
    "falcon_openbook_path = \"../results/Falcon3-Mamba-7B-Instruct/num_docs_change_experiment/openbook_prompting_mode\"\n",
    "falcon_closedbook_path = \"../results/Falcon3-Mamba-7B-Instruct/gold_idx_change_experiment/closedbook_prompting_mode\"\n",
    "falcon_closedbook_file = list(Path(falcon_closedbook_path).glob(f\"*json\"))[0]"
   ]
  },
  {
   "cell_type": "markdown",
   "id": "c4422d57",
   "metadata": {},
   "source": [
    "gold at index 0"
   ]
  },
  {
   "cell_type": "code",
   "execution_count": null,
   "id": "2a78ea34",
   "metadata": {},
   "outputs": [],
   "source": [
    "falcon_openbook_file_gold_idx_0 = list(Path(f\"{falcon_openbook_path}/gold_idx_0\").glob(f\"*json\"))[0]\n",
    "plot_single_model_results_data(\n",
    "    openbook_path=falcon_openbook_file_gold_idx_0,\n",
    "    closedbook_path=falcon_closedbook_file\n",
    ")"
   ]
  },
  {
   "cell_type": "markdown",
   "id": "3ba60709",
   "metadata": {},
   "source": [
    "gold at index 4"
   ]
  },
  {
   "cell_type": "code",
   "execution_count": null,
   "id": "64bb4b4a",
   "metadata": {},
   "outputs": [],
   "source": [
    "falcon_openbook_file_gold_idx_4 = list(Path(f\"{falcon_openbook_path}/gold_idx_4\").glob(f\"*json\"))[0]\n",
    "plot_single_model_results_data(\n",
    "    openbook_path=falcon_openbook_file_gold_idx_4,\n",
    "    closedbook_path=falcon_closedbook_file\n",
    ")"
   ]
  },
  {
   "cell_type": "markdown",
   "id": "20cd2a79",
   "metadata": {},
   "source": [
    "gold at index 9"
   ]
  },
  {
   "cell_type": "code",
   "execution_count": null,
   "id": "670ca64b",
   "metadata": {},
   "outputs": [],
   "source": [
    "falcon_openbook_file_gold_idx_9 = list(Path(f\"{falcon_openbook_path}/gold_idx_9\").glob(f\"*json\"))[0]\n",
    "plot_single_model_results_data(\n",
    "    openbook_path=falcon_openbook_file_gold_idx_9,\n",
    "    closedbook_path=falcon_closedbook_file\n",
    ")"
   ]
  },
  {
   "cell_type": "markdown",
   "id": "2de4ac6b",
   "metadata": {},
   "source": [
    "## Llama-3.1-8B-Instruct Analysis (LLM)"
   ]
  },
  {
   "cell_type": "markdown",
   "id": "9f5e5f98",
   "metadata": {},
   "source": [
    "### Gold Index Change"
   ]
  },
  {
   "cell_type": "code",
   "execution_count": null,
   "id": "3b9eca97",
   "metadata": {},
   "outputs": [],
   "source": [
    "llama_closedbook_path = \"../results/Llama-3.1-8B-Instruct/gold_idx_change_experiment/closedbook_prompting_mode\"\n",
    "llama_closedbook_file = list(Path(llama_closedbook_path).glob(f\"*json\"))[0]\n",
    "llama_openbook_path = \"../results/Llama-3.1-8B-Instruct/gold_idx_change_experiment/openbook_prompting_mode\""
   ]
  },
  {
   "cell_type": "markdown",
   "id": "7194e1a1",
   "metadata": {},
   "source": [
    "10 total documents"
   ]
  },
  {
   "cell_type": "code",
   "execution_count": null,
   "id": "271c29d1",
   "metadata": {},
   "outputs": [],
   "source": [
    "llama_openbook_file_10_docs = list(Path(f\"{llama_openbook_path}/10_docs\").glob(f\"*json\"))[0]\n",
    "plot_single_model_results_data(\n",
    "    openbook_path=llama_openbook_file_10_docs,\n",
    "    closedbook_path=llama_closedbook_file\n",
    ")"
   ]
  },
  {
   "cell_type": "markdown",
   "id": "f280baa2",
   "metadata": {},
   "source": [
    "20 total documents"
   ]
  },
  {
   "cell_type": "code",
   "execution_count": null,
   "id": "e844affe",
   "metadata": {},
   "outputs": [],
   "source": [
    "llama_openbook_file_20_docs = list(Path(f\"{llama_openbook_path}/20_docs\").glob(f\"*json\"))[0]\n",
    "plot_single_model_results_data(\n",
    "    openbook_path=llama_openbook_file_20_docs,\n",
    "    closedbook_path=llama_closedbook_file\n",
    ")"
   ]
  },
  {
   "cell_type": "markdown",
   "id": "72a19ba1",
   "metadata": {},
   "source": [
    "30 total documents"
   ]
  },
  {
   "cell_type": "code",
   "execution_count": null,
   "id": "0962b440",
   "metadata": {},
   "outputs": [],
   "source": [
    "llama_openbook_file_30_docs = list(Path(f\"{llama_openbook_path}/30_docs\").glob(f\"*json\"))[0]\n",
    "plot_single_model_results_data(\n",
    "    openbook_path=llama_openbook_file_30_docs,\n",
    "    closedbook_path=llama_closedbook_file\n",
    ")"
   ]
  },
  {
   "cell_type": "markdown",
   "id": "594cc9b2",
   "metadata": {},
   "source": [
    "### Input Documents Increase"
   ]
  },
  {
   "cell_type": "code",
   "execution_count": null,
   "id": "37ef1677",
   "metadata": {},
   "outputs": [],
   "source": [
    "llama_openbook_path = \"../results/Llama-3.1-8B-Instruct/num_docs_change_experiment/openbook_prompting_mode\"\n",
    "llama_closedbook_path = \"../results/Llama-3.1-8B-Instruct/gold_idx_change_experiment/closedbook_prompting_mode\"\n",
    "llama_closedbook_file = list(Path(llama_closedbook_path).glob(f\"*json\"))[0]"
   ]
  },
  {
   "cell_type": "markdown",
   "id": "a52581c4",
   "metadata": {},
   "source": [
    "gold at index 0"
   ]
  },
  {
   "cell_type": "code",
   "execution_count": null,
   "id": "e99c1a4b",
   "metadata": {},
   "outputs": [],
   "source": [
    "llama_openbook_file_gold_idx_0 = list(Path(f\"{llama_openbook_path}/gold_idx_0\").glob(f\"*json\"))[0]\n",
    "plot_single_model_results_data(\n",
    "    openbook_path=llama_openbook_file_gold_idx_0,\n",
    "    closedbook_path=falcon_closedbook_file\n",
    ")"
   ]
  },
  {
   "cell_type": "markdown",
   "id": "386d3aae",
   "metadata": {},
   "source": [
    "gold at index 4"
   ]
  },
  {
   "cell_type": "code",
   "execution_count": null,
   "id": "18994079",
   "metadata": {},
   "outputs": [],
   "source": [
    "llama_openbook_file_gold_idx_4 = list(Path(f\"{llama_openbook_path}/gold_idx_4\").glob(f\"*json\"))[0]\n",
    "plot_single_model_results_data(\n",
    "    openbook_path=llama_openbook_file_gold_idx_4,\n",
    "    closedbook_path=falcon_closedbook_file\n",
    ")"
   ]
  },
  {
   "cell_type": "markdown",
   "id": "fe71b722",
   "metadata": {},
   "source": [
    "gold at index 9"
   ]
  },
  {
   "cell_type": "code",
   "execution_count": null,
   "id": "5fa2b6fc",
   "metadata": {},
   "outputs": [],
   "source": [
    "llama_openbook_file_gold_idx_9 = list(Path(f\"{llama_openbook_path}/gold_idx_9\").glob(f\"*json\"))[0]\n",
    "plot_single_model_results_data(\n",
    "    openbook_path=llama_openbook_file_gold_idx_9,\n",
    "    closedbook_path=falcon_closedbook_file\n",
    ")"
   ]
  },
  {
   "cell_type": "markdown",
   "id": "a05c321f",
   "metadata": {},
   "source": [
    "## Falcon - Llama Comparison (SSM vs LLM)"
   ]
  },
  {
   "cell_type": "markdown",
   "id": "1b9436a7",
   "metadata": {},
   "source": [
    "### Gold Index Change"
   ]
  },
  {
   "cell_type": "markdown",
   "id": "7e2da0ba",
   "metadata": {},
   "source": [
    "10 total documents"
   ]
  },
  {
   "cell_type": "code",
   "execution_count": null,
   "id": "95b446a3",
   "metadata": {},
   "outputs": [],
   "source": [
    "plot_two_models_comparison(\n",
    "    openbook_paths=[falcon_openbook_file_10_docs, llama_openbook_file_10_docs],\n",
    "    closedbook_path=falcon_closedbook_file,\n",
    "    closedbook_label=\"falcon-mamba-closedbook\",\n",
    "    image_name=\"falcon-mamba-vs-llama-10-docs\",\n",
    "    show_scores_eval=True\n",
    ")"
   ]
  },
  {
   "cell_type": "markdown",
   "id": "1fb037fc",
   "metadata": {},
   "source": [
    "20 total documents"
   ]
  },
  {
   "cell_type": "code",
   "execution_count": null,
   "id": "316e240b",
   "metadata": {},
   "outputs": [],
   "source": [
    "plot_two_models_comparison(\n",
    "    openbook_paths=[falcon_openbook_file_20_docs, llama_openbook_file_20_docs],\n",
    "    closedbook_path=falcon_closedbook_file,\n",
    "    closedbook_label=\"falcon-mamba-closedbook\",\n",
    "    image_name=\"falcon-mamba-vs-llama-20-docs\",\n",
    "    show_scores_eval=True\n",
    ")"
   ]
  },
  {
   "cell_type": "markdown",
   "id": "8819dd2c",
   "metadata": {},
   "source": [
    "30 total documents"
   ]
  },
  {
   "cell_type": "code",
   "execution_count": null,
   "id": "ed86d449",
   "metadata": {},
   "outputs": [],
   "source": [
    "plot_two_models_comparison(\n",
    "    openbook_paths=[falcon_openbook_file_30_docs, llama_openbook_file_30_docs],\n",
    "    closedbook_path=falcon_closedbook_file,\n",
    "    closedbook_label=\"falcon-mamba-closedbook\",\n",
    "    image_name=\"falcon-mamba-vs-llama-30-docs\",\n",
    "    show_scores_eval=True\n",
    ")"
   ]
  },
  {
   "cell_type": "markdown",
   "id": "8420fda1",
   "metadata": {},
   "source": [
    "### Input Documents Increase"
   ]
  },
  {
   "cell_type": "markdown",
   "id": "1ec4a581",
   "metadata": {},
   "source": [
    "gold at index 0"
   ]
  },
  {
   "cell_type": "code",
   "execution_count": 86,
   "id": "6e2adfa2",
   "metadata": {},
   "outputs": [
    {
     "name": "stdout",
     "output_type": "stream",
     "text": [
      "tiiuae/Falcon3-Mamba-7B-Instruct scores:\n",
      "[0.594, 0.4614, 0.3981]\n",
      "meta-llama/Llama-3.1-8B-Instruct scores:\n",
      "[0.7465, 0.7141, 0.6874]\n"
     ]
    },
    {
     "ename": "FileNotFoundError",
     "evalue": "[Errno 2] No such file or directory: '../assets/plots/falcon-mamba-vs-llama-gold-idx-0.png'",
     "output_type": "error",
     "traceback": [
      "\u001b[31m---------------------------------------------------------------------------\u001b[39m",
      "\u001b[31mFileNotFoundError\u001b[39m                         Traceback (most recent call last)",
      "\u001b[36mCell\u001b[39m\u001b[36m \u001b[39m\u001b[32mIn[86]\u001b[39m\u001b[32m, line 1\u001b[39m\n\u001b[32m----> \u001b[39m\u001b[32m1\u001b[39m \u001b[43mplot_two_models_comparison\u001b[49m\u001b[43m(\u001b[49m\n\u001b[32m      2\u001b[39m \u001b[43m    \u001b[49m\u001b[43mopenbook_paths\u001b[49m\u001b[43m=\u001b[49m\u001b[43m[\u001b[49m\u001b[43mfalcon_openbook_file_gold_idx_0\u001b[49m\u001b[43m,\u001b[49m\u001b[43m \u001b[49m\u001b[43mllama_openbook_file_gold_idx_0\u001b[49m\u001b[43m]\u001b[49m\u001b[43m,\u001b[49m\n\u001b[32m      3\u001b[39m \u001b[43m    \u001b[49m\u001b[43mclosedbook_path\u001b[49m\u001b[43m=\u001b[49m\u001b[43mfalcon_closedbook_file\u001b[49m\u001b[43m,\u001b[49m\n\u001b[32m      4\u001b[39m \u001b[43m    \u001b[49m\u001b[43mclosedbook_label\u001b[49m\u001b[43m=\u001b[49m\u001b[33;43m\"\u001b[39;49m\u001b[33;43mfalcon-mamba-closedbook\u001b[39;49m\u001b[33;43m\"\u001b[39;49m\u001b[43m,\u001b[49m\n\u001b[32m      5\u001b[39m \u001b[43m    \u001b[49m\u001b[43mimage_name\u001b[49m\u001b[43m=\u001b[49m\u001b[33;43m\"\u001b[39;49m\u001b[33;43mfalcon-mamba-vs-llama-gold-idx-0\u001b[39;49m\u001b[33;43m\"\u001b[39;49m\u001b[43m,\u001b[49m\n\u001b[32m      6\u001b[39m \u001b[43m    \u001b[49m\u001b[43mshow_scores_eval\u001b[49m\u001b[43m=\u001b[49m\u001b[38;5;28;43;01mTrue\u001b[39;49;00m\n\u001b[32m      7\u001b[39m \u001b[43m)\u001b[49m\n",
      "\u001b[36mCell\u001b[39m\u001b[36m \u001b[39m\u001b[32mIn[68]\u001b[39m\u001b[32m, line 54\u001b[39m, in \u001b[36mplot_two_models_comparison\u001b[39m\u001b[34m(openbook_paths, closedbook_path, closedbook_label, image_name, show_scores_eval)\u001b[39m\n\u001b[32m     51\u001b[39m     xtitle = \u001b[33m\"\u001b[39m\u001b[33mNumber of Documents\u001b[39m\u001b[33m\"\u001b[39m\n\u001b[32m     52\u001b[39m ytitle = \u001b[33mf\u001b[39m\u001b[33m\"\u001b[39m\u001b[33mPerformance\u001b[39m\u001b[38;5;130;01m\\n\u001b[39;00m\u001b[33m[metric: \u001b[39m\u001b[38;5;132;01m{\u001b[39;00mmetrics[\u001b[32m0\u001b[39m]\u001b[38;5;132;01m}\u001b[39;00m\u001b[33m]\u001b[39m\u001b[33m\"\u001b[39m\n\u001b[32m---> \u001b[39m\u001b[32m54\u001b[39m \u001b[43mplot_metric_over_documents\u001b[49m\u001b[43m(\u001b[49m\n\u001b[32m     55\u001b[39m \u001b[43m    \u001b[49m\u001b[43mx_values\u001b[49m\u001b[43m=\u001b[49m\u001b[43mx_values\u001b[49m\u001b[43m,\u001b[49m\n\u001b[32m     56\u001b[39m \u001b[43m    \u001b[49m\u001b[43my_values_list\u001b[49m\u001b[43m=\u001b[49m\u001b[43mopenbook_scores_evals\u001b[49m\u001b[43m,\u001b[49m\n\u001b[32m     57\u001b[39m \u001b[43m    \u001b[49m\u001b[43mseries_labels\u001b[49m\u001b[43m=\u001b[49m\u001b[43mshort_model_names\u001b[49m\u001b[43m,\u001b[49m\n\u001b[32m     58\u001b[39m \u001b[43m    \u001b[49m\u001b[43mtitle\u001b[49m\u001b[43m=\u001b[49m\u001b[43mgraph_title\u001b[49m\u001b[43m,\u001b[49m\n\u001b[32m     59\u001b[39m \u001b[43m    \u001b[49m\u001b[43mxtitle\u001b[49m\u001b[43m=\u001b[49m\u001b[43mxtitle\u001b[49m\u001b[43m,\u001b[49m\n\u001b[32m     60\u001b[39m \u001b[43m    \u001b[49m\u001b[43mytitle\u001b[49m\u001b[43m=\u001b[49m\u001b[43mytitle\u001b[49m\u001b[43m,\u001b[49m\n\u001b[32m     61\u001b[39m \u001b[43m    \u001b[49m\u001b[43mclosedbook_mean\u001b[49m\u001b[43m=\u001b[49m\u001b[43mclosedbook_mean\u001b[49m\u001b[43m,\u001b[49m\n\u001b[32m     62\u001b[39m \u001b[43m    \u001b[49m\u001b[43mclosedbook_label\u001b[49m\u001b[43m=\u001b[49m\u001b[43mclosedbook_label\u001b[49m\u001b[43m,\u001b[49m\n\u001b[32m     63\u001b[39m \u001b[43m    \u001b[49m\u001b[43mimage_name\u001b[49m\u001b[43m=\u001b[49m\u001b[43mimage_name\u001b[49m\n\u001b[32m     64\u001b[39m \u001b[43m\u001b[49m\u001b[43m)\u001b[49m\n",
      "\u001b[36mCell\u001b[39m\u001b[36m \u001b[39m\u001b[32mIn[83]\u001b[39m\u001b[32m, line 36\u001b[39m, in \u001b[36mplot_metric_over_documents\u001b[39m\u001b[34m(x_values, y_values_list, series_labels, title, xtitle, ytitle, closedbook_mean, closedbook_label, figsize, image_name)\u001b[39m\n\u001b[32m     34\u001b[39m plt.tight_layout()\n\u001b[32m     35\u001b[39m \u001b[38;5;28;01mif\u001b[39;00m image_name \u001b[38;5;129;01mis\u001b[39;00m \u001b[38;5;129;01mnot\u001b[39;00m \u001b[38;5;28;01mNone\u001b[39;00m:\n\u001b[32m---> \u001b[39m\u001b[32m36\u001b[39m     \u001b[43mplt\u001b[49m\u001b[43m.\u001b[49m\u001b[43msavefig\u001b[49m\u001b[43m(\u001b[49m\u001b[33;43mf\u001b[39;49m\u001b[33;43m\"\u001b[39;49m\u001b[33;43m../assets/plots/\u001b[39;49m\u001b[38;5;132;43;01m{\u001b[39;49;00m\u001b[43mimage_name\u001b[49m\u001b[38;5;132;43;01m}\u001b[39;49;00m\u001b[33;43m.png\u001b[39;49m\u001b[33;43m\"\u001b[39;49m\u001b[43m,\u001b[49m\u001b[43m \u001b[49m\u001b[43mdpi\u001b[49m\u001b[43m=\u001b[49m\u001b[32;43m300\u001b[39;49m\u001b[43m,\u001b[49m\u001b[43m \u001b[49m\u001b[43mbbox_inches\u001b[49m\u001b[43m=\u001b[49m\u001b[33;43m\"\u001b[39;49m\u001b[33;43mtight\u001b[39;49m\u001b[33;43m\"\u001b[39;49m\u001b[43m)\u001b[49m\n\u001b[32m     37\u001b[39m plt.show()\n",
      "\u001b[36mFile \u001b[39m\u001b[32m~/Library/Caches/pypoetry/virtualenvs/deep-generative-models-biu--ZzTfCAn-py3.12/lib/python3.12/site-packages/matplotlib/pyplot.py:1243\u001b[39m, in \u001b[36msavefig\u001b[39m\u001b[34m(*args, **kwargs)\u001b[39m\n\u001b[32m   1240\u001b[39m fig = gcf()\n\u001b[32m   1241\u001b[39m \u001b[38;5;66;03m# savefig default implementation has no return, so mypy is unhappy\u001b[39;00m\n\u001b[32m   1242\u001b[39m \u001b[38;5;66;03m# presumably this is here because subclasses can return?\u001b[39;00m\n\u001b[32m-> \u001b[39m\u001b[32m1243\u001b[39m res = \u001b[43mfig\u001b[49m\u001b[43m.\u001b[49m\u001b[43msavefig\u001b[49m\u001b[43m(\u001b[49m\u001b[43m*\u001b[49m\u001b[43margs\u001b[49m\u001b[43m,\u001b[49m\u001b[43m \u001b[49m\u001b[43m*\u001b[49m\u001b[43m*\u001b[49m\u001b[43mkwargs\u001b[49m\u001b[43m)\u001b[49m  \u001b[38;5;66;03m# type: ignore[func-returns-value]\u001b[39;00m\n\u001b[32m   1244\u001b[39m fig.canvas.draw_idle()  \u001b[38;5;66;03m# Need this if 'transparent=True', to reset colors.\u001b[39;00m\n\u001b[32m   1245\u001b[39m \u001b[38;5;28;01mreturn\u001b[39;00m res\n",
      "\u001b[36mFile \u001b[39m\u001b[32m~/Library/Caches/pypoetry/virtualenvs/deep-generative-models-biu--ZzTfCAn-py3.12/lib/python3.12/site-packages/matplotlib/figure.py:3490\u001b[39m, in \u001b[36mFigure.savefig\u001b[39m\u001b[34m(self, fname, transparent, **kwargs)\u001b[39m\n\u001b[32m   3488\u001b[39m     \u001b[38;5;28;01mfor\u001b[39;00m ax \u001b[38;5;129;01min\u001b[39;00m \u001b[38;5;28mself\u001b[39m.axes:\n\u001b[32m   3489\u001b[39m         _recursively_make_axes_transparent(stack, ax)\n\u001b[32m-> \u001b[39m\u001b[32m3490\u001b[39m \u001b[38;5;28;43mself\u001b[39;49m\u001b[43m.\u001b[49m\u001b[43mcanvas\u001b[49m\u001b[43m.\u001b[49m\u001b[43mprint_figure\u001b[49m\u001b[43m(\u001b[49m\u001b[43mfname\u001b[49m\u001b[43m,\u001b[49m\u001b[43m \u001b[49m\u001b[43m*\u001b[49m\u001b[43m*\u001b[49m\u001b[43mkwargs\u001b[49m\u001b[43m)\u001b[49m\n",
      "\u001b[36mFile \u001b[39m\u001b[32m~/Library/Caches/pypoetry/virtualenvs/deep-generative-models-biu--ZzTfCAn-py3.12/lib/python3.12/site-packages/matplotlib/backend_bases.py:2184\u001b[39m, in \u001b[36mFigureCanvasBase.print_figure\u001b[39m\u001b[34m(self, filename, dpi, facecolor, edgecolor, orientation, format, bbox_inches, pad_inches, bbox_extra_artists, backend, **kwargs)\u001b[39m\n\u001b[32m   2180\u001b[39m \u001b[38;5;28;01mtry\u001b[39;00m:\n\u001b[32m   2181\u001b[39m     \u001b[38;5;66;03m# _get_renderer may change the figure dpi (as vector formats\u001b[39;00m\n\u001b[32m   2182\u001b[39m     \u001b[38;5;66;03m# force the figure dpi to 72), so we need to set it again here.\u001b[39;00m\n\u001b[32m   2183\u001b[39m     \u001b[38;5;28;01mwith\u001b[39;00m cbook._setattr_cm(\u001b[38;5;28mself\u001b[39m.figure, dpi=dpi):\n\u001b[32m-> \u001b[39m\u001b[32m2184\u001b[39m         result = \u001b[43mprint_method\u001b[49m\u001b[43m(\u001b[49m\n\u001b[32m   2185\u001b[39m \u001b[43m            \u001b[49m\u001b[43mfilename\u001b[49m\u001b[43m,\u001b[49m\n\u001b[32m   2186\u001b[39m \u001b[43m            \u001b[49m\u001b[43mfacecolor\u001b[49m\u001b[43m=\u001b[49m\u001b[43mfacecolor\u001b[49m\u001b[43m,\u001b[49m\n\u001b[32m   2187\u001b[39m \u001b[43m            \u001b[49m\u001b[43medgecolor\u001b[49m\u001b[43m=\u001b[49m\u001b[43medgecolor\u001b[49m\u001b[43m,\u001b[49m\n\u001b[32m   2188\u001b[39m \u001b[43m            \u001b[49m\u001b[43morientation\u001b[49m\u001b[43m=\u001b[49m\u001b[43morientation\u001b[49m\u001b[43m,\u001b[49m\n\u001b[32m   2189\u001b[39m \u001b[43m            \u001b[49m\u001b[43mbbox_inches_restore\u001b[49m\u001b[43m=\u001b[49m\u001b[43m_bbox_inches_restore\u001b[49m\u001b[43m,\u001b[49m\n\u001b[32m   2190\u001b[39m \u001b[43m            \u001b[49m\u001b[43m*\u001b[49m\u001b[43m*\u001b[49m\u001b[43mkwargs\u001b[49m\u001b[43m)\u001b[49m\n\u001b[32m   2191\u001b[39m \u001b[38;5;28;01mfinally\u001b[39;00m:\n\u001b[32m   2192\u001b[39m     \u001b[38;5;28;01mif\u001b[39;00m bbox_inches \u001b[38;5;129;01mand\u001b[39;00m restore_bbox:\n",
      "\u001b[36mFile \u001b[39m\u001b[32m~/Library/Caches/pypoetry/virtualenvs/deep-generative-models-biu--ZzTfCAn-py3.12/lib/python3.12/site-packages/matplotlib/backend_bases.py:2040\u001b[39m, in \u001b[36mFigureCanvasBase._switch_canvas_and_return_print_method.<locals>.<lambda>\u001b[39m\u001b[34m(*args, **kwargs)\u001b[39m\n\u001b[32m   2036\u001b[39m     optional_kws = {  \u001b[38;5;66;03m# Passed by print_figure for other renderers.\u001b[39;00m\n\u001b[32m   2037\u001b[39m         \u001b[33m\"\u001b[39m\u001b[33mdpi\u001b[39m\u001b[33m\"\u001b[39m, \u001b[33m\"\u001b[39m\u001b[33mfacecolor\u001b[39m\u001b[33m\"\u001b[39m, \u001b[33m\"\u001b[39m\u001b[33medgecolor\u001b[39m\u001b[33m\"\u001b[39m, \u001b[33m\"\u001b[39m\u001b[33morientation\u001b[39m\u001b[33m\"\u001b[39m,\n\u001b[32m   2038\u001b[39m         \u001b[33m\"\u001b[39m\u001b[33mbbox_inches_restore\u001b[39m\u001b[33m\"\u001b[39m}\n\u001b[32m   2039\u001b[39m     skip = optional_kws - {*inspect.signature(meth).parameters}\n\u001b[32m-> \u001b[39m\u001b[32m2040\u001b[39m     print_method = functools.wraps(meth)(\u001b[38;5;28;01mlambda\u001b[39;00m *args, **kwargs: \u001b[43mmeth\u001b[49m\u001b[43m(\u001b[49m\n\u001b[32m   2041\u001b[39m \u001b[43m        \u001b[49m\u001b[43m*\u001b[49m\u001b[43margs\u001b[49m\u001b[43m,\u001b[49m\u001b[43m \u001b[49m\u001b[43m*\u001b[49m\u001b[43m*\u001b[49m\u001b[43m{\u001b[49m\u001b[43mk\u001b[49m\u001b[43m:\u001b[49m\u001b[43m \u001b[49m\u001b[43mv\u001b[49m\u001b[43m \u001b[49m\u001b[38;5;28;43;01mfor\u001b[39;49;00m\u001b[43m \u001b[49m\u001b[43mk\u001b[49m\u001b[43m,\u001b[49m\u001b[43m \u001b[49m\u001b[43mv\u001b[49m\u001b[43m \u001b[49m\u001b[38;5;129;43;01min\u001b[39;49;00m\u001b[43m \u001b[49m\u001b[43mkwargs\u001b[49m\u001b[43m.\u001b[49m\u001b[43mitems\u001b[49m\u001b[43m(\u001b[49m\u001b[43m)\u001b[49m\u001b[43m \u001b[49m\u001b[38;5;28;43;01mif\u001b[39;49;00m\u001b[43m \u001b[49m\u001b[43mk\u001b[49m\u001b[43m \u001b[49m\u001b[38;5;129;43;01mnot\u001b[39;49;00m\u001b[43m \u001b[49m\u001b[38;5;129;43;01min\u001b[39;49;00m\u001b[43m \u001b[49m\u001b[43mskip\u001b[49m\u001b[43m}\u001b[49m\u001b[43m)\u001b[49m)\n\u001b[32m   2042\u001b[39m \u001b[38;5;28;01melse\u001b[39;00m:  \u001b[38;5;66;03m# Let third-parties do as they see fit.\u001b[39;00m\n\u001b[32m   2043\u001b[39m     print_method = meth\n",
      "\u001b[36mFile \u001b[39m\u001b[32m~/Library/Caches/pypoetry/virtualenvs/deep-generative-models-biu--ZzTfCAn-py3.12/lib/python3.12/site-packages/matplotlib/backends/backend_agg.py:481\u001b[39m, in \u001b[36mFigureCanvasAgg.print_png\u001b[39m\u001b[34m(self, filename_or_obj, metadata, pil_kwargs)\u001b[39m\n\u001b[32m    434\u001b[39m \u001b[38;5;28;01mdef\u001b[39;00m\u001b[38;5;250m \u001b[39m\u001b[34mprint_png\u001b[39m(\u001b[38;5;28mself\u001b[39m, filename_or_obj, *, metadata=\u001b[38;5;28;01mNone\u001b[39;00m, pil_kwargs=\u001b[38;5;28;01mNone\u001b[39;00m):\n\u001b[32m    435\u001b[39m \u001b[38;5;250m    \u001b[39m\u001b[33;03m\"\"\"\u001b[39;00m\n\u001b[32m    436\u001b[39m \u001b[33;03m    Write the figure to a PNG file.\u001b[39;00m\n\u001b[32m    437\u001b[39m \n\u001b[32m   (...)\u001b[39m\u001b[32m    479\u001b[39m \u001b[33;03m        *metadata*, including the default 'Software' key.\u001b[39;00m\n\u001b[32m    480\u001b[39m \u001b[33;03m    \"\"\"\u001b[39;00m\n\u001b[32m--> \u001b[39m\u001b[32m481\u001b[39m     \u001b[38;5;28;43mself\u001b[39;49m\u001b[43m.\u001b[49m\u001b[43m_print_pil\u001b[49m\u001b[43m(\u001b[49m\u001b[43mfilename_or_obj\u001b[49m\u001b[43m,\u001b[49m\u001b[43m \u001b[49m\u001b[33;43m\"\u001b[39;49m\u001b[33;43mpng\u001b[39;49m\u001b[33;43m\"\u001b[39;49m\u001b[43m,\u001b[49m\u001b[43m \u001b[49m\u001b[43mpil_kwargs\u001b[49m\u001b[43m,\u001b[49m\u001b[43m \u001b[49m\u001b[43mmetadata\u001b[49m\u001b[43m)\u001b[49m\n",
      "\u001b[36mFile \u001b[39m\u001b[32m~/Library/Caches/pypoetry/virtualenvs/deep-generative-models-biu--ZzTfCAn-py3.12/lib/python3.12/site-packages/matplotlib/backends/backend_agg.py:430\u001b[39m, in \u001b[36mFigureCanvasAgg._print_pil\u001b[39m\u001b[34m(self, filename_or_obj, fmt, pil_kwargs, metadata)\u001b[39m\n\u001b[32m    425\u001b[39m \u001b[38;5;250m\u001b[39m\u001b[33;03m\"\"\"\u001b[39;00m\n\u001b[32m    426\u001b[39m \u001b[33;03mDraw the canvas, then save it using `.image.imsave` (to which\u001b[39;00m\n\u001b[32m    427\u001b[39m \u001b[33;03m*pil_kwargs* and *metadata* are forwarded).\u001b[39;00m\n\u001b[32m    428\u001b[39m \u001b[33;03m\"\"\"\u001b[39;00m\n\u001b[32m    429\u001b[39m FigureCanvasAgg.draw(\u001b[38;5;28mself\u001b[39m)\n\u001b[32m--> \u001b[39m\u001b[32m430\u001b[39m \u001b[43mmpl\u001b[49m\u001b[43m.\u001b[49m\u001b[43mimage\u001b[49m\u001b[43m.\u001b[49m\u001b[43mimsave\u001b[49m\u001b[43m(\u001b[49m\n\u001b[32m    431\u001b[39m \u001b[43m    \u001b[49m\u001b[43mfilename_or_obj\u001b[49m\u001b[43m,\u001b[49m\u001b[43m \u001b[49m\u001b[38;5;28;43mself\u001b[39;49m\u001b[43m.\u001b[49m\u001b[43mbuffer_rgba\u001b[49m\u001b[43m(\u001b[49m\u001b[43m)\u001b[49m\u001b[43m,\u001b[49m\u001b[43m \u001b[49m\u001b[38;5;28;43mformat\u001b[39;49m\u001b[43m=\u001b[49m\u001b[43mfmt\u001b[49m\u001b[43m,\u001b[49m\u001b[43m \u001b[49m\u001b[43morigin\u001b[49m\u001b[43m=\u001b[49m\u001b[33;43m\"\u001b[39;49m\u001b[33;43mupper\u001b[39;49m\u001b[33;43m\"\u001b[39;49m\u001b[43m,\u001b[49m\n\u001b[32m    432\u001b[39m \u001b[43m    \u001b[49m\u001b[43mdpi\u001b[49m\u001b[43m=\u001b[49m\u001b[38;5;28;43mself\u001b[39;49m\u001b[43m.\u001b[49m\u001b[43mfigure\u001b[49m\u001b[43m.\u001b[49m\u001b[43mdpi\u001b[49m\u001b[43m,\u001b[49m\u001b[43m \u001b[49m\u001b[43mmetadata\u001b[49m\u001b[43m=\u001b[49m\u001b[43mmetadata\u001b[49m\u001b[43m,\u001b[49m\u001b[43m \u001b[49m\u001b[43mpil_kwargs\u001b[49m\u001b[43m=\u001b[49m\u001b[43mpil_kwargs\u001b[49m\u001b[43m)\u001b[49m\n",
      "\u001b[36mFile \u001b[39m\u001b[32m~/Library/Caches/pypoetry/virtualenvs/deep-generative-models-biu--ZzTfCAn-py3.12/lib/python3.12/site-packages/matplotlib/image.py:1644\u001b[39m, in \u001b[36mimsave\u001b[39m\u001b[34m(fname, arr, vmin, vmax, cmap, format, origin, dpi, metadata, pil_kwargs)\u001b[39m\n\u001b[32m   1642\u001b[39m pil_kwargs.setdefault(\u001b[33m\"\u001b[39m\u001b[33mformat\u001b[39m\u001b[33m\"\u001b[39m, \u001b[38;5;28mformat\u001b[39m)\n\u001b[32m   1643\u001b[39m pil_kwargs.setdefault(\u001b[33m\"\u001b[39m\u001b[33mdpi\u001b[39m\u001b[33m\"\u001b[39m, (dpi, dpi))\n\u001b[32m-> \u001b[39m\u001b[32m1644\u001b[39m \u001b[43mimage\u001b[49m\u001b[43m.\u001b[49m\u001b[43msave\u001b[49m\u001b[43m(\u001b[49m\u001b[43mfname\u001b[49m\u001b[43m,\u001b[49m\u001b[43m \u001b[49m\u001b[43m*\u001b[49m\u001b[43m*\u001b[49m\u001b[43mpil_kwargs\u001b[49m\u001b[43m)\u001b[49m\n",
      "\u001b[36mFile \u001b[39m\u001b[32m~/Library/Caches/pypoetry/virtualenvs/deep-generative-models-biu--ZzTfCAn-py3.12/lib/python3.12/site-packages/PIL/Image.py:2576\u001b[39m, in \u001b[36mImage.save\u001b[39m\u001b[34m(self, fp, format, **params)\u001b[39m\n\u001b[32m   2574\u001b[39m         fp = builtins.open(filename, \u001b[33m\"\u001b[39m\u001b[33mr+b\u001b[39m\u001b[33m\"\u001b[39m)\n\u001b[32m   2575\u001b[39m     \u001b[38;5;28;01melse\u001b[39;00m:\n\u001b[32m-> \u001b[39m\u001b[32m2576\u001b[39m         fp = \u001b[43mbuiltins\u001b[49m\u001b[43m.\u001b[49m\u001b[43mopen\u001b[49m\u001b[43m(\u001b[49m\u001b[43mfilename\u001b[49m\u001b[43m,\u001b[49m\u001b[43m \u001b[49m\u001b[33;43m\"\u001b[39;49m\u001b[33;43mw+b\u001b[39;49m\u001b[33;43m\"\u001b[39;49m\u001b[43m)\u001b[49m\n\u001b[32m   2577\u001b[39m \u001b[38;5;28;01melse\u001b[39;00m:\n\u001b[32m   2578\u001b[39m     fp = cast(IO[\u001b[38;5;28mbytes\u001b[39m], fp)\n",
      "\u001b[31mFileNotFoundError\u001b[39m: [Errno 2] No such file or directory: '../assets/plots/falcon-mamba-vs-llama-gold-idx-0.png'"
     ]
    },
    {
     "data": {
      "image/png": "[encoded data removed]",
      "text/plain": [
       "<Figure size 800x600 with 1 Axes>"
      ]
     },
     "metadata": {},
     "output_type": "display_data"
    }
   ],
   "source": [
    "plot_two_models_comparison(\n",
    "    openbook_paths=[falcon_openbook_file_gold_idx_0, llama_openbook_file_gold_idx_0],\n",
    "    closedbook_path=falcon_closedbook_file,\n",
    "    closedbook_label=\"falcon-mamba-closedbook\",\n",
    "    image_name=\"falcon-mamba-vs-llama-gold-idx-0\",\n",
    "    show_scores_eval=True\n",
    ")"
   ]
  },
  {
   "cell_type": "markdown",
   "id": "20863bdb",
   "metadata": {},
   "source": [
    "gold at index 4"
   ]
  },
  {
   "cell_type": "code",
   "execution_count": null,
   "id": "ad53d26d",
   "metadata": {},
   "outputs": [],
   "source": [
    "plot_two_models_comparison(\n",
    "    openbook_paths=[falcon_openbook_file_gold_idx_4, llama_openbook_file_gold_idx_4],\n",
    "    closedbook_path=falcon_closedbook_file,\n",
    "    closedbook_label=\"falcon-mamba-closedbook\",\n",
    "    image_name=\"falcon-mamba-vs-llama-gold-idx-4\",\n",
    "    show_scores_eval=True\n",
    ")"
   ]
  },
  {
   "cell_type": "markdown",
   "id": "fe7b72a6",
   "metadata": {},
   "source": [
    "gold at index 9"
   ]
  },
  {
   "cell_type": "code",
   "execution_count": null,
   "id": "24db2e3e",
   "metadata": {},
   "outputs": [],
   "source": [
    "plot_two_models_comparison(\n",
    "    openbook_paths=[falcon_openbook_file_gold_idx_9, llama_openbook_file_gold_idx_9],\n",
    "    closedbook_path=falcon_closedbook_file,\n",
    "    closedbook_label=\"falcon-mamba-closedbook\",\n",
    "    image_name=\"falcon-mamba-vs-llama-gold-idx-9\",\n",
    "    show_scores_eval=True\n",
    ")"
   ]
  },
  {
   "cell_type": "markdown",
   "id": "49ba404b",
   "metadata": {},
   "source": [
    "## Falcon3-Mamba-7B-Base Analysis (SSM)"
   ]
  },
  {
   "cell_type": "markdown",
   "id": "573f215a",
   "metadata": {},
   "source": [
    "### Gold Index Change"
   ]
  },
  {
   "cell_type": "code",
   "execution_count": null,
   "id": "f2a17603",
   "metadata": {},
   "outputs": [],
   "source": [
    "falcon_base_closedbook_path = \"../results/Falcon3-Mamba-7B-Base/gold_idx_change_experiment/closedbook_prompting_mode\"\n",
    "falcon_base_closedbook_file = list(Path(falcon_base_closedbook_path).glob(f\"*json\"))[0]\n",
    "falcon_base_openbook_path = \"../results/Falcon3-Mamba-7B-Base/gold_idx_change_experiment/openbook_prompting_mode\""
   ]
  },
  {
   "cell_type": "markdown",
   "id": "7a8d5f53",
   "metadata": {},
   "source": [
    "10 total documents"
   ]
  },
  {
   "cell_type": "code",
   "execution_count": null,
   "id": "2485b206",
   "metadata": {},
   "outputs": [],
   "source": [
    "falcon_base_openbook_file_10_docs = list(Path(f\"{falcon_base_openbook_path}/10_docs\").glob(f\"*json\"))[0]\n",
    "plot_single_model_results_data(\n",
    "    openbook_path=falcon_base_openbook_file_10_docs,\n",
    "    closedbook_path=falcon_base_closedbook_file\n",
    ")"
   ]
  },
  {
   "cell_type": "markdown",
   "id": "29f6b102",
   "metadata": {},
   "source": [
    "20 total documents"
   ]
  },
  {
   "cell_type": "code",
   "execution_count": null,
   "id": "a76473c6",
   "metadata": {},
   "outputs": [],
   "source": [
    "falcon_base_openbook_file_20_docs = list(Path(f\"{falcon_base_openbook_path}/20_docs\").glob(f\"*json\"))[0]\n",
    "plot_single_model_results_data(\n",
    "    openbook_path=falcon_base_openbook_file_20_docs,\n",
    "    closedbook_path=falcon_base_closedbook_file\n",
    ")"
   ]
  },
  {
   "cell_type": "markdown",
   "id": "0801a44e",
   "metadata": {},
   "source": [
    "30 total documents"
   ]
  },
  {
   "cell_type": "code",
   "execution_count": null,
   "id": "fb5aa01d",
   "metadata": {},
   "outputs": [],
   "source": [
    "falcon_base_openbook_file_30_docs = list(Path(f\"{falcon_base_openbook_path}/30_docs\").glob(f\"*json\"))[0]\n",
    "plot_single_model_results_data(\n",
    "    openbook_path=falcon_base_openbook_file_30_docs,\n",
    "    closedbook_path=falcon_base_closedbook_file\n",
    ")"
   ]
  },
  {
   "cell_type": "markdown",
   "id": "92d9840b",
   "metadata": {},
   "source": [
    "## Falcon Base - Instruct Comparison"
   ]
  },
  {
   "cell_type": "markdown",
   "id": "45c57810",
   "metadata": {},
   "source": [
    "### Gold Index Change"
   ]
  },
  {
   "cell_type": "markdown",
   "id": "d09820d4",
   "metadata": {},
   "source": [
    "10 total documents"
   ]
  },
  {
   "cell_type": "code",
   "execution_count": null,
   "id": "42020444",
   "metadata": {},
   "outputs": [],
   "source": [
    "plot_two_models_comparison([falcon_openbook_file_10_docs, falcon_base_openbook_file_10_docs],\n",
    "    closedbook_path=falcon_closedbook_file,\n",
    "    closedbook_label=\"falcon-mamba-instruct-closedbook\",\n",
    "    image_name=\"falcon-mamba-instruct-vs-base-10-docs\",\n",
    "    show_scores_eval=True\n",
    ")"
   ]
  },
  {
   "cell_type": "markdown",
   "id": "1605c758",
   "metadata": {},
   "source": [
    "20 total documents"
   ]
  },
  {
   "cell_type": "code",
   "execution_count": null,
   "id": "5ae198bd",
   "metadata": {},
   "outputs": [],
   "source": [
    "plot_two_models_comparison([falcon_openbook_file_20_docs, falcon_base_openbook_file_20_docs],\n",
    "    closedbook_path=falcon_closedbook_file,\n",
    "    closedbook_label=\"falcon-mamba-instruct-closedbook\",\n",
    "    image_name=\"falcon-mamba-instruct-vs-base-20-docs\",\n",
    "    show_scores_eval=True\n",
    ")"
   ]
  },
  {
   "cell_type": "markdown",
   "id": "2247f3b1",
   "metadata": {},
   "source": [
    "30 total documents"
   ]
  },
  {
   "cell_type": "code",
   "execution_count": null,
   "id": "d6b4a040",
   "metadata": {},
   "outputs": [],
   "source": [
    "plot_two_models_comparison([falcon_openbook_file_30_docs, falcon_base_openbook_file_30_docs],\n",
    "    closedbook_path=falcon_closedbook_file,\n",
    "    closedbook_label=\"falcon-mamba-instruct-closedbook\",\n",
    "    image_name=\"falcon-mamba-instruct-vs-base-30-docs\",\n",
    "    show_scores_eval=True\n",
    ")"
   ]
  }
 ],
 "metadata": {
  "kernelspec": {
   "display_name": "deep-generative-models-biu--ZzTfCAn-py3.12",
   "language": "python",
   "name": "python3"
  },
  "language_info": {
   "codemirror_mode": {
    "name": "ipython",
    "version": 3
   },
   "file_extension": ".py",
   "mimetype": "text/x-python",
   "name": "python",
   "nbconvert_exporter": "python",
   "pygments_lexer": "ipython3",
   "version": "3.12.8"
  }
 },
 "nbformat": 4,
 "nbformat_minor": 5
}
